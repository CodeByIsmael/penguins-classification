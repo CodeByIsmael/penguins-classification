{
 "cells": [
  {
   "cell_type": "markdown",
   "metadata": {},
   "source": [
    "Peticiones al servidor Flask para cada modelo"
   ]
  },
  {
   "cell_type": "markdown",
   "metadata": {},
   "source": [
    "Importar bibliotecas necesarias"
   ]
  },
  {
   "cell_type": "code",
   "execution_count": 19,
   "metadata": {},
   "outputs": [],
   "source": [
    "import requests\n",
    "import json"
   ]
  },
  {
   "cell_type": "markdown",
   "metadata": {},
   "source": [
    "Datos de prueba"
   ]
  },
  {
   "cell_type": "code",
   "execution_count": 20,
   "metadata": {},
   "outputs": [],
   "source": [
    "test_samples = [\n",
    "    {\"bill_length_mm\": 50.4, \"bill_depth_mm\": 15.6, \"flipper_length_mm\": 222, \"body_mass_g\": 5750.0, \"island\": \"Biscoe\", \"sex\": \"Male\"}\n",
    "    #,{\"bill_length_mm\": 46.1, \"bill_depth_mm\": 13.2, \"flipper_length_mm\": 211.0, \"body_mass_g\": 4500.0, \"island\": \"Dream\", \"sex\": \"Female\"}\n",
    "    #,{\"bill_length_mm\": 52.1, \"bill_depth_mm\": 19.6, \"flipper_length_mm\": 201.0, \"body_mass_g\": 3750.0, \"island\": \"Dream\", \"sex\": \"Male\"}\n",
    "    ,{\"bill_length_mm\": 37.8, \"bill_depth_mm\": 18.1, \"flipper_length_mm\": 191.0, \"body_mass_g\": 3400.0, \"island\": \"Torgersen\", \"sex\": \"Female\"}\n",
    "    #,{\"bill_length_mm\": 51.3, \"bill_depth_mm\": 20.0, \"flipper_length_mm\": 193.0, \"body_mass_g\": 3650.0, \"island\": \"Dream\", \"sex\": \"Male\"}\n",
    "]\n"
   ]
  },
  {
   "cell_type": "markdown",
   "metadata": {},
   "source": [
    "Regresión logística"
   ]
  },
  {
   "cell_type": "code",
   "execution_count": 21,
   "metadata": {},
   "outputs": [
    {
     "name": "stdout",
     "output_type": "stream",
     "text": [
      "Respuesta LogReg 1: {'probability': 0.9981873161465193, 'species': 'Gentoo'}\n",
      "Respuesta LogReg 2: {'probability': 0.9984289081595338, 'species': 'Adelie'}\n"
     ]
    }
   ],
   "source": [
    "url_log_reg = \"http://127.0.0.1:8000/predict/log_reg\"\n",
    "\n",
    "response1 = requests.post(url_log_reg, json=test_samples[0])\n",
    "print(\"Respuesta LogReg 1:\", response1.json())\n",
    "\n",
    "response2 = requests.post(url_log_reg, json=test_samples[1])\n",
    "print(\"Respuesta LogReg 2:\", response2.json())"
   ]
  },
  {
   "cell_type": "markdown",
   "metadata": {},
   "source": [
    "Máquinas de Soporte Vectorial (SVM)"
   ]
  },
  {
   "cell_type": "code",
   "execution_count": 22,
   "metadata": {},
   "outputs": [
    {
     "name": "stdout",
     "output_type": "stream",
     "text": [
      "Respuesta SVM 1: {'probability': 0.977020784269245, 'species': 'Gentoo'}\n",
      "Respuesta SVM 2: {'probability': 0.995804362324536, 'species': 'Adelie'}\n"
     ]
    }
   ],
   "source": [
    "url_svm = \"http://127.0.0.1:8000/predict/svm\"\n",
    "\n",
    "response1 = requests.post(url_svm, json=test_samples[0])\n",
    "print(\"Respuesta SVM 1:\", response1.json())\n",
    "\n",
    "response2 = requests.post(url_svm, json=test_samples[1])\n",
    "print(\"Respuesta SVM 2:\", response2.json())"
   ]
  },
  {
   "cell_type": "code",
   "execution_count": null,
   "metadata": {},
   "outputs": [],
   "source": []
  },
  {
   "cell_type": "markdown",
   "metadata": {},
   "source": [
    "Árboles de Decisión"
   ]
  },
  {
   "cell_type": "code",
   "execution_count": 23,
   "metadata": {},
   "outputs": [
    {
     "name": "stdout",
     "output_type": "stream",
     "text": [
      "Respuesta DT 1: {'probability': 1.0, 'species': 'Gentoo'}\n",
      "Respuesta DT 2: {'probability': 1.0, 'species': 'Adelie'}\n"
     ]
    }
   ],
   "source": [
    "url_dt = \"http://127.0.0.1:8000/predict/dt\"\n",
    "\n",
    "response1 = requests.post(url_dt, json=test_samples[0])\n",
    "print(\"Respuesta DT 1:\", response1.json())\n",
    "\n",
    "response2 = requests.post(url_dt, json=test_samples[1])\n",
    "print(\"Respuesta DT 2:\", response2.json())"
   ]
  },
  {
   "cell_type": "markdown",
   "metadata": {},
   "source": [
    "K Vecinos Más Cercanos (KNN)"
   ]
  },
  {
   "cell_type": "code",
   "execution_count": 24,
   "metadata": {},
   "outputs": [
    {
     "name": "stdout",
     "output_type": "stream",
     "text": [
      "Respuesta KNN 1: {'probability': 1.0, 'species': 'Gentoo'}\n",
      "Respuesta KNN 2: {'probability': 1.0, 'species': 'Adelie'}\n"
     ]
    }
   ],
   "source": [
    "url_knn = \"http://127.0.0.1:8000/predict/knn\"\n",
    "\n",
    "response1 = requests.post(url_knn, json=test_samples[0])\n",
    "print(\"Respuesta KNN 1:\", response1.json())\n",
    "\n",
    "response2 = requests.post(url_knn, json=test_samples[1])\n",
    "print(\"Respuesta KNN 2:\", response2.json())"
   ]
  }
 ],
 "metadata": {
  "kernelspec": {
   "display_name": ".venv",
   "language": "python",
   "name": "python3"
  },
  "language_info": {
   "codemirror_mode": {
    "name": "ipython",
    "version": 3
   },
   "file_extension": ".py",
   "mimetype": "text/x-python",
   "name": "python",
   "nbconvert_exporter": "python",
   "pygments_lexer": "ipython3",
   "version": "3.13.0"
  }
 },
 "nbformat": 4,
 "nbformat_minor": 2
}
